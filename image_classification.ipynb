{
 "cells": [
  {
   "cell_type": "markdown",
   "metadata": {
    "collapsed": true
   },
   "source": [
    "# Image Classification\n",
    "In this project, you'll classify images from the [CIFAR-10 dataset](https://www.cs.toronto.edu/~kriz/cifar.html).  The dataset consists of airplanes, dogs, cats, and other objects. You'll preprocess the images, then train a convolutional neural network on all the samples. The images need to be normalized and the labels need to be one-hot encoded.  You'll get to apply what you learned and build a convolutional, max pooling, dropout, and fully connected layers.  At the end, you'll get to see your neural network's predictions on the sample images.\n",
    "## Get the Data\n",
    "Run the following cell to download the [CIFAR-10 dataset for python](https://www.cs.toronto.edu/~kriz/cifar-10-python.tar.gz)."
   ]
  },
  {
   "cell_type": "code",
   "execution_count": 1,
   "metadata": {
    "collapsed": false
   },
   "outputs": [
    {
     "name": "stdout",
     "output_type": "stream",
     "text": [
      "All files found!\n"
     ]
    }
   ],
   "source": [
    "\"\"\"\n",
    "DON'T MODIFY ANYTHING IN THIS CELL THAT IS BELOW THIS LINE\n",
    "\"\"\"\n",
    "from urllib.request import urlretrieve\n",
    "from os.path import isfile, isdir\n",
    "from tqdm import tqdm\n",
    "import problem_unittests as tests\n",
    "import tarfile\n",
    "\n",
    "cifar10_dataset_folder_path = 'cifar-10-batches-py'\n",
    "\n",
    "class DLProgress(tqdm):\n",
    "    last_block = 0\n",
    "\n",
    "    def hook(self, block_num=1, block_size=1, total_size=None):\n",
    "        self.total = total_size\n",
    "        self.update((block_num - self.last_block) * block_size)\n",
    "        self.last_block = block_num\n",
    "\n",
    "if not isfile('cifar-10-python.tar.gz'):\n",
    "    with DLProgress(unit='B', unit_scale=True, miniters=1, desc='CIFAR-10 Dataset') as pbar:\n",
    "        urlretrieve(\n",
    "            'https://www.cs.toronto.edu/~kriz/cifar-10-python.tar.gz',\n",
    "            'cifar-10-python.tar.gz',\n",
    "            pbar.hook)\n",
    "\n",
    "if not isdir(cifar10_dataset_folder_path):\n",
    "    with tarfile.open('cifar-10-python.tar.gz') as tar:\n",
    "        tar.extractall()\n",
    "        tar.close()\n",
    "\n",
    "\n",
    "tests.test_folder_path(cifar10_dataset_folder_path)"
   ]
  },
  {
   "cell_type": "markdown",
   "metadata": {},
   "source": [
    "## Explore the Data\n",
    "The dataset is broken into batches to prevent your machine from running out of memory.  The CIFAR-10 dataset consists of 5 batches, named `data_batch_1`, `data_batch_2`, etc.. Each batch contains the labels and images that are one of the following:\n",
    "* airplane\n",
    "* automobile\n",
    "* bird\n",
    "* cat\n",
    "* deer\n",
    "* dog\n",
    "* frog\n",
    "* horse\n",
    "* ship\n",
    "* truck\n",
    "\n",
    "Understanding a dataset is part of making predictions on the data.  Play around with the code cell below by changing the `batch_id` and `sample_id`. The `batch_id` is the id for a batch (1-5). The `sample_id` is the id for a image and label pair in the batch.\n",
    "\n",
    "Ask yourself \"What are all possible labels?\", \"What is the range of values for the image data?\", \"Are the labels in order or random?\".  Answers to questions like these will help you preprocess the data and end up with better predictions."
   ]
  },
  {
   "cell_type": "code",
   "execution_count": 2,
   "metadata": {
    "collapsed": false
   },
   "outputs": [
    {
     "name": "stdout",
     "output_type": "stream",
     "text": [
      "\n",
      "Stats of batch 5:\n",
      "Samples: 10000\n",
      "Label Counts: {0: 1014, 1: 1014, 2: 952, 3: 1016, 4: 997, 5: 1025, 6: 980, 7: 977, 8: 1003, 9: 1022}\n",
      "First 20 Labels: [1, 8, 5, 1, 5, 7, 4, 3, 8, 2, 7, 2, 0, 1, 5, 9, 6, 2, 0, 8]\n",
      "\n",
      "Example of Image 0:\n",
      "Image - Min Value: 2 Max Value: 255\n",
      "Image - Shape: (32, 32, 3)\n",
      "Label - Label Id: 1 Name: automobile\n"
     ]
    },
    {
     "data": {
      "image/png": "[encoded data removed]",
      "text/plain": [
       "<matplotlib.figure.Figure at 0x7fae33a514e0>"
      ]
     },
     "metadata": {
      "image/png": {
       "height": 250,
       "width": 253
      }
     },
     "output_type": "display_data"
    }
   ],
   "source": [
    "%matplotlib inline\n",
    "%config InlineBackend.figure_format = 'retina'\n",
    "\n",
    "import helper\n",
    "import numpy as np\n",
    "\n",
    "# Explore the dataset\n",
    "batch_id = 5\n",
    "sample_id = 0\n",
    "helper.display_stats(cifar10_dataset_folder_path, batch_id, sample_id)"
   ]
  },
  {
   "cell_type": "markdown",
   "metadata": {},
   "source": [
    "## Implement Preprocess Functions\n",
    "### Normalize\n",
    "In the cell below, implement the `normalize` function to take in image data, `x`, and return it as a normalized Numpy array. The values should be in the range of 0 to 1, inclusive.  The return object should be the same shape as `x`."
   ]
  },
  {
   "cell_type": "code",
   "execution_count": 3,
   "metadata": {
    "collapsed": false
   },
   "outputs": [
    {
     "name": "stdout",
     "output_type": "stream",
     "text": [
      "Tests Passed\n"
     ]
    }
   ],
   "source": [
    "def normalize(x):\n",
    "    \"\"\"\n",
    "    Normalize a list of sample image data in the range of 0 to 1\n",
    "    : x: List of image data.  The image shape is (32, 32, 3)\n",
    "    : return: Numpy array of normalize data\n",
    "    \"\"\"\n",
    "    # DONE: Implement Function\n",
    "    #max value is 255, hence dividing x by 255\n",
    "    arr = (x/255).reshape(-1, 32, 32, 3)\n",
    "    return arr\n",
    "\n",
    "\"\"\"\n",
    "DON'T MODIFY ANYTHING IN THIS CELL THAT IS BELOW THIS LINE\n",
    "\"\"\"\n",
    "tests.test_normalize(normalize)"
   ]
  },
  {
   "cell_type": "markdown",
   "metadata": {},
   "source": [
    "### One-hot encode\n",
    "Just like the previous code cell, you'll be implementing a function for preprocessing.  This time, you'll implement the `one_hot_encode` function. The input, `x`, are a list of labels.  Implement the function to return the list of labels as One-Hot encoded Numpy array.  The possible values for labels are 0 to 9. The one-hot encoding function should return the same encoding for each value between each call to `one_hot_encode`.  Make sure to save the map of encodings outside the function.\n",
    "\n",
    "**Hint:**\n",
    "\n",
    "Look into LabelBinarizer in the preprocessing module of sklearn."
   ]
  },
  {
   "cell_type": "code",
   "execution_count": 4,
   "metadata": {
    "collapsed": false
   },
   "outputs": [
    {
     "name": "stdout",
     "output_type": "stream",
     "text": [
      "Tests Passed\n"
     ]
    }
   ],
   "source": [
    "from sklearn.preprocessing import LabelBinarizer\n",
    "encoded_map = [0,1,2,3,4,5,6,7,8,9]\n",
    "def one_hot_encode(x):\n",
    "    \"\"\"\n",
    "    One hot encode a list of sample labels. Return a one-hot encoded vector for each label.\n",
    "    : x: List of sample Labels\n",
    "    : return: Numpy array of one-hot encoded labels\n",
    "    \"\"\"\n",
    "    # TODO: Implement Function\n",
    "    lb = LabelBinarizer(neg_label=0, pos_label=1, sparse_output=False)\n",
    "    lb.fit(encoded_map)\n",
    "    x= lb.transform(x)\n",
    "    return x\n",
    "\n",
    "\"\"\"\n",
    "DON'T MODIFY ANYTHING IN THIS CELL THAT IS BELOW THIS LINE\n",
    "\"\"\"\n",
    "tests.test_one_hot_encode(one_hot_encode)"
   ]
  },
  {
   "cell_type": "markdown",
   "metadata": {},
   "source": [
    "### Randomize Data\n",
    "As you saw from exploring the data above, the order of the samples are randomized.  It doesn't hurt to randomize it again, but you don't need to for this dataset."
   ]
  },
  {
   "cell_type": "markdown",
   "metadata": {},
   "source": [
    "## Preprocess all the data and save it\n",
    "Running the code cell below will preprocess all the CIFAR-10 data and save it to file. The code below also uses 10% of the training data for validation."
   ]
  },
  {
   "cell_type": "code",
   "execution_count": 5,
   "metadata": {
    "collapsed": false
   },
   "outputs": [],
   "source": [
    "\"\"\"\n",
    "DON'T MODIFY ANYTHING IN THIS CELL\n",
    "\"\"\"\n",
    "# Preprocess Training, Validation, and Testing Data\n",
    "helper.preprocess_and_save_data(cifar10_dataset_folder_path, normalize, one_hot_encode)"
   ]
  },
  {
   "cell_type": "markdown",
   "metadata": {},
   "source": [
    "# Check Point\n",
    "This is your first checkpoint.  If you ever decide to come back to this notebook or have to restart the notebook, you can start from here.  The preprocessed data has been saved to disk."
   ]
  },
  {
   "cell_type": "code",
   "execution_count": 6,
   "metadata": {
    "collapsed": true
   },
   "outputs": [],
   "source": [
    "\"\"\"\n",
    "DON'T MODIFY ANYTHING IN THIS CELL\n",
    "\"\"\"\n",
    "import pickle\n",
    "import problem_unittests as tests\n",
    "import helper\n",
    "\n",
    "# Load the Preprocessed Validation data\n",
    "valid_features, valid_labels = pickle.load(open('preprocess_validation.p', mode='rb'))"
   ]
  },
  {
   "cell_type": "markdown",
   "metadata": {},
   "source": [
    "## Build the network\n",
    "For the neural network, you'll build each layer into a function.  Most of the code you've seen has been outside of functions. To test your code more thoroughly, we require that you put each layer in a function.  This allows us to give you better feedback and test for simple mistakes using our unittests before you submit your project.\n",
    "\n",
    ">**Note:** If you're finding it hard to dedicate enough time for this course each week, we've provided a small shortcut to this part of the project. In the next couple of problems, you'll have the option to use classes from the [TensorFlow Layers](https://www.tensorflow.org/api_docs/python/tf/layers) or [TensorFlow Layers (contrib)](https://www.tensorflow.org/api_guides/python/contrib.layers) packages to build each layer, except the layers you build in the \"Convolutional and Max Pooling Layer\" section.  TF Layers is similar to Keras's and TFLearn's abstraction to layers, so it's easy to pickup.\n",
    "\n",
    ">However, if you would like to get the most out of this course, try to solve all the problems _without_ using anything from the TF Layers packages. You **can** still use classes from other packages that happen to have the same name as ones you find in TF Layers! For example, instead of using the TF Layers version of the `conv2d` class, [tf.layers.conv2d](https://www.tensorflow.org/api_docs/python/tf/layers/conv2d), you would want to use the TF Neural Network version of `conv2d`, [tf.nn.conv2d](https://www.tensorflow.org/api_docs/python/tf/nn/conv2d). \n",
    "\n",
    "Let's begin!\n",
    "\n",
    "### Input\n",
    "The neural network needs to read the image data, one-hot encoded labels, and dropout keep probability. Implement the following functions\n",
    "* Implement `neural_net_image_input`\n",
    " * Return a [TF Placeholder](https://www.tensorflow.org/api_docs/python/tf/placeholder)\n",
    " * Set the shape using `image_shape` with batch size set to `None`.\n",
    " * Name the TensorFlow placeholder \"x\" using the TensorFlow `name` parameter in the [TF Placeholder](https://www.tensorflow.org/api_docs/python/tf/placeholder).\n",
    "* Implement `neural_net_label_input`\n",
    " * Return a [TF Placeholder](https://www.tensorflow.org/api_docs/python/tf/placeholder)\n",
    " * Set the shape using `n_classes` with batch size set to `None`.\n",
    " * Name the TensorFlow placeholder \"y\" using the TensorFlow `name` parameter in the [TF Placeholder](https://www.tensorflow.org/api_docs/python/tf/placeholder).\n",
    "* Implement `neural_net_keep_prob_input`\n",
    " * Return a [TF Placeholder](https://www.tensorflow.org/api_docs/python/tf/placeholder) for dropout keep probability.\n",
    " * Name the TensorFlow placeholder \"keep_prob\" using the TensorFlow `name` parameter in the [TF Placeholder](https://www.tensorflow.org/api_docs/python/tf/placeholder).\n",
    "\n",
    "These names will be used at the end of the project to load your saved model.\n",
    "\n",
    "Note: `None` for shapes in TensorFlow allow for a dynamic size."
   ]
  },
  {
   "cell_type": "code",
   "execution_count": 30,
   "metadata": {
    "collapsed": false
   },
   "outputs": [
    {
     "name": "stdout",
     "output_type": "stream",
     "text": [
      "Image Input Tests Passed.\n",
      "Label Input Tests Passed.\n",
      "Keep Prob Tests Passed.\n"
     ]
    }
   ],
   "source": [
    "import tensorflow as tf\n",
    "\n",
    "def neural_net_image_input(image_shape):\n",
    "    \"\"\"\n",
    "    Return a Tensor for a batch of image input\n",
    "    : image_shape: Shape of the images\n",
    "    : return: Tensor for image input.\n",
    "    \"\"\"\n",
    "    # DONE: Implement Function\n",
    "    size = (None,) + image_shape\n",
    "    x = tf.placeholder(tf.float32, list(size), name='x')\n",
    "    return x\n",
    "\n",
    "\n",
    "def neural_net_label_input(n_classes):\n",
    "    \"\"\"\n",
    "    Return a Tensor for a batch of label input\n",
    "    : n_classes: Number of classes\n",
    "    : return: Tensor for label input.\n",
    "    \"\"\"\n",
    "    # DONE: Implement Function\n",
    "    y = tf.placeholder(tf.float32, [None, n_classes], name='y')\n",
    "    return y\n",
    "\n",
    "\n",
    "def neural_net_keep_prob_input():\n",
    "    \"\"\"\n",
    "    Return a Tensor for keep probability\n",
    "    : return: Tensor for keep probability.\n",
    "    \"\"\"\n",
    "    # DONE: Implement Function\n",
    "    keep_prob = tf.placeholder(tf.float32, name='keep_prob')\n",
    "    return keep_prob\n",
    "\n",
    "\n",
    "\"\"\"\n",
    "DON'T MODIFY ANYTHING IN THIS CELL THAT IS BELOW THIS LINE\n",
    "\"\"\"\n",
    "tf.reset_default_graph()\n",
    "tests.test_nn_image_inputs(neural_net_image_input)\n",
    "tests.test_nn_label_inputs(neural_net_label_input)\n",
    "tests.test_nn_keep_prob_inputs(neural_net_keep_prob_input)"
   ]
  },
  {
   "cell_type": "markdown",
   "metadata": {},
   "source": [
    "### Convolution and Max Pooling Layer\n",
    "Convolution layers have a lot of success with images. For this code cell, you should implement the function `conv2d_maxpool` to apply convolution then max pooling:\n",
    "* Create the weight and bias using `conv_ksize`, `conv_num_outputs` and the shape of `x_tensor`.\n",
    "* Apply a convolution to `x_tensor` using weight and `conv_strides`.\n",
    " * We recommend you use same padding, but you're welcome to use any padding.\n",
    "* Add bias\n",
    "* Add a nonlinear activation to the convolution.\n",
    "* Apply Max Pooling using `pool_ksize` and `pool_strides`.\n",
    " * We recommend you use same padding, but you're welcome to use any padding.\n",
    "\n",
    "**Note:** You **can't** use [TensorFlow Layers](https://www.tensorflow.org/api_docs/python/tf/layers) or [TensorFlow Layers (contrib)](https://www.tensorflow.org/api_guides/python/contrib.layers) for **this** layer, but you can still use TensorFlow's [Neural Network](https://www.tensorflow.org/api_docs/python/tf/nn) package. You may still use the shortcut option for all the **other** layers.\n",
    "\n",
    "** Hint: **\n",
    "\n",
    "When unpacking values as an argument in Python, look into the [unpacking](https://docs.python.org/3/tutorial/controlflow.html#unpacking-argument-lists) operator. "
   ]
  },
  {
   "cell_type": "code",
   "execution_count": 32,
   "metadata": {
    "collapsed": false
   },
   "outputs": [
    {
     "name": "stdout",
     "output_type": "stream",
     "text": [
      "Tests Passed\n"
     ]
    }
   ],
   "source": [
    "def conv2d_maxpool(x_tensor, conv_num_outputs, conv_ksize, conv_strides, pool_ksize, pool_strides):\n",
    "    \"\"\"\n",
    "    Apply convolution then max pooling to x_tensor\n",
    "    :param x_tensor: TensorFlow Tensor\n",
    "    :param conv_num_outputs: Number of outputs for the convolutional layer\n",
    "    :param conv_ksize: kernal size 2-D Tuple for the convolutional layer\n",
    "    :param conv_strides: Stride 2-D Tuple for convolution\n",
    "    :param pool_ksize: kernal size 2-D Tuple for pool\n",
    "    :param pool_strides: Stride 2-D Tuple for pool\n",
    "    : return: A tensor that represents convolution and max pooling of x_tensor\n",
    "    \"\"\"\n",
    "    # DONE: Implement Function\n",
    "    input_depth = int(x_tensor.shape[-1])\n",
    "    weights_conv = tf.Variable(tf.random_normal(conv_ksize + (input_depth,conv_num_outputs), \\\n",
    "                                                mean=0.0, stddev=1.0 / input_depth, dtype=tf.float32))\n",
    "    bias_conv = tf.Variable(tf.zeros(conv_num_outputs))\n",
    "    padding = 'SAME'\n",
    "    conv = tf.nn.conv2d(x_tensor, weights_conv, [1,*conv_strides,1], padding) + bias_conv\n",
    "    conv = tf.nn.relu(conv)\n",
    "    conv = tf.nn.max_pool(conv, [1,*pool_ksize,1], [1,*pool_strides,1], padding)\n",
    "    return conv \n",
    "\n",
    "\n",
    "\"\"\"\n",
    "DON'T MODIFY ANYTHING IN THIS CELL THAT IS BELOW THIS LINE\n",
    "\"\"\"\n",
    "tests.test_con_pool(conv2d_maxpool)"
   ]
  },
  {
   "cell_type": "markdown",
   "metadata": {},
   "source": [
    "### Flatten Layer\n",
    "Implement the `flatten` function to change the dimension of `x_tensor` from a 4-D tensor to a 2-D tensor.  The output should be the shape (*Batch Size*, *Flattened Image Size*). Shortcut option: you can use classes from the [TensorFlow Layers](https://www.tensorflow.org/api_docs/python/tf/layers) or [TensorFlow Layers (contrib)](https://www.tensorflow.org/api_guides/python/contrib.layers) packages for this layer. For more of a challenge, only use other TensorFlow packages."
   ]
  },
  {
   "cell_type": "code",
   "execution_count": 33,
   "metadata": {
    "collapsed": false
   },
   "outputs": [
    {
     "name": "stdout",
     "output_type": "stream",
     "text": [
      "Tests Passed\n"
     ]
    }
   ],
   "source": [
    "from functools import reduce\n",
    "from operator import mul\n",
    "\n",
    "def flatten(x_tensor):\n",
    "    \"\"\"\n",
    "    Flatten x_tensor to (Batch Size, Flattened Image Size)\n",
    "    : x_tensor: A tensor of size (Batch Size, ...), where ... are the image dimensions.\n",
    "    : return: A tensor of size (Batch Size, Flattened Image Size).\n",
    "    \"\"\"\n",
    "    # DONE: Implement Function\n",
    "    #tf.reshape(x_tensor, [-1, int(reduce(mul, x_tensor.shape[1:]))])\n",
    "    return tf.contrib.layers.flatten(x_tensor)\n",
    "\n",
    "\n",
    "\"\"\"\n",
    "DON'T MODIFY ANYTHING IN THIS CELL THAT IS BELOW THIS LINE\n",
    "\"\"\"\n",
    "tests.test_flatten(flatten)"
   ]
  },
  {
   "cell_type": "markdown",
   "metadata": {},
   "source": [
    "### Fully-Connected Layer\n",
    "Implement the `fully_conn` function to apply a fully connected layer to `x_tensor` with the shape (*Batch Size*, *num_outputs*). Shortcut option: you can use classes from the [TensorFlow Layers](https://www.tensorflow.org/api_docs/python/tf/layers) or [TensorFlow Layers (contrib)](https://www.tensorflow.org/api_guides/python/contrib.layers) packages for this layer. For more of a challenge, only use other TensorFlow packages."
   ]
  },
  {
   "cell_type": "code",
   "execution_count": 34,
   "metadata": {
    "collapsed": false
   },
   "outputs": [
    {
     "name": "stdout",
     "output_type": "stream",
     "text": [
      "Tests Passed\n"
     ]
    }
   ],
   "source": [
    "def fully_conn(x_tensor, num_outputs):\n",
    "    \"\"\"\n",
    "    Apply a fully connected layer to x_tensor using weight and bias\n",
    "    : x_tensor: A 2-D tensor where the first dimension is batch size.\n",
    "    : num_outputs: The number of output that the new tensor should be.\n",
    "    : return: A 2-D tensor where the second dimension is num_outputs.\n",
    "    \"\"\"\n",
    "    # DONE: Implement Function\n",
    "    new_first_dim = int(reduce(mul, x_tensor.shape[1:]))\n",
    "    new_second_dim = num_outputs\n",
    "    weights = tf.Variable(tf.random_normal([new_first_dim, new_second_dim],\n",
    "                                        mean=0.0, stddev=1.0 / new_first_dim, dtype=tf.float32))\n",
    "    bias = tf.Variable(tf.zeros([num_outputs]))\n",
    "    conv = tf.add(tf.matmul(x_tensor, weights), bias)\n",
    "    return tf.nn.relu(conv)\n",
    "\n",
    "\n",
    "\"\"\"\n",
    "DON'T MODIFY ANYTHING IN THIS CELL THAT IS BELOW THIS LINE\n",
    "\"\"\"\n",
    "tests.test_fully_conn(fully_conn)"
   ]
  },
  {
   "cell_type": "markdown",
   "metadata": {},
   "source": [
    "### Output Layer\n",
    "Implement the `output` function to apply a fully connected layer to `x_tensor` with the shape (*Batch Size*, *num_outputs*). Shortcut option: you can use classes from the [TensorFlow Layers](https://www.tensorflow.org/api_docs/python/tf/layers) or [TensorFlow Layers (contrib)](https://www.tensorflow.org/api_guides/python/contrib.layers) packages for this layer. For more of a challenge, only use other TensorFlow packages.\n",
    "\n",
    "**Note:** Activation, softmax, or cross entropy should **not** be applied to this."
   ]
  },
  {
   "cell_type": "code",
   "execution_count": 35,
   "metadata": {
    "collapsed": false
   },
   "outputs": [
    {
     "name": "stdout",
     "output_type": "stream",
     "text": [
      "Tests Passed\n"
     ]
    }
   ],
   "source": [
    "def output(x_tensor, num_outputs):\n",
    "    \"\"\"\n",
    "    Apply a output layer to x_tensor using weight and bias\n",
    "    : x_tensor: A 2-D tensor where the first dimension is batch size.\n",
    "    : num_outputs: The number of output that the new tensor should be.\n",
    "    : return: A 2-D tensor where the second dimension is num_outputs.\n",
    "    \"\"\"\n",
    "    # DONE: Implement Function\n",
    "    #difference between this function and fully_conn is here we do not call actiovation function\n",
    "    new_first_dim = int(reduce(mul, x_tensor.shape[1:]))\n",
    "    new_second_dim = num_outputs\n",
    "    weights = tf.Variable(tf.random_normal([new_first_dim, new_second_dim],\n",
    "                                        mean=0.0, stddev=1.0 / new_first_dim, dtype=tf.float32))\n",
    "    bias = tf.Variable(tf.zeros([num_outputs]))\n",
    "    conv = tf.add(tf.matmul(x_tensor, weights), bias)\n",
    "    return conv\n",
    "\n",
    "\n",
    "\"\"\"\n",
    "DON'T MODIFY ANYTHING IN THIS CELL THAT IS BELOW THIS LINE\n",
    "\"\"\"\n",
    "tests.test_output(output)"
   ]
  },
  {
   "cell_type": "markdown",
   "metadata": {},
   "source": [
    "### Create Convolutional Model\n",
    "Implement the function `conv_net` to create a convolutional neural network model. The function takes in a batch of images, `x`, and outputs logits.  Use the layers you created above to create this model:\n",
    "\n",
    "* Apply 1, 2, or 3 Convolution and Max Pool layers\n",
    "* Apply a Flatten Layer\n",
    "* Apply 1, 2, or 3 Fully Connected Layers\n",
    "* Apply an Output Layer\n",
    "* Return the output\n",
    "* Apply [TensorFlow's Dropout](https://www.tensorflow.org/api_docs/python/tf/nn/dropout) to one or more layers in the model using `keep_prob`. "
   ]
  },
  {
   "cell_type": "code",
   "execution_count": 36,
   "metadata": {
    "collapsed": false
   },
   "outputs": [
    {
     "name": "stdout",
     "output_type": "stream",
     "text": [
      "Neural Network Built!\n"
     ]
    }
   ],
   "source": [
    "def my_conv_net(x, keep_prob):\n",
    "    # A mix of karpathy's and pedropb's architectures\n",
    "    x = conv2d_maxpool(x, 8, (5, 5), (1, 1), (2, 2), (2, 2))\n",
    "    x = conv2d_maxpool(x, 16, (5, 5), (1, 1), (2, 2), (2, 2))\n",
    "    x = conv2d_maxpool(x, 32, (5, 5), (1, 1), (2, 2), (2, 2))\n",
    "    x = conv2d_maxpool(x, 64, (5, 5), (1, 1), (2, 2), (2, 2))\n",
    "    x = flatten(x)\n",
    "    x = fully_conn(x, 512)\n",
    "    x = tf.nn.dropout(x, keep_prob)\n",
    "    x = output(x, 10)\n",
    "    \n",
    "    return x\n",
    "\n",
    "def conv_net(x, keep_prob):\n",
    "    \"\"\"\n",
    "    Create a convolutional neural network model\n",
    "    : x: Placeholder tensor that holds image data.\n",
    "    : keep_prob: Placeholder tensor that hold dropout keep probability.\n",
    "    : return: Tensor that represents logits\n",
    "    \"\"\"\n",
    "    return my_conv_net(x, keep_prob)\n",
    "\n",
    "\n",
    "\"\"\"\n",
    "DON'T MODIFY ANYTHING IN THIS CELL THAT IS BELOW THIS LINE\n",
    "\"\"\"\n",
    "\n",
    "##############################\n",
    "## Build the Neural Network ##\n",
    "##############################\n",
    "\n",
    "# Remove previous weights, bias, inputs, etc..\n",
    "tf.reset_default_graph()\n",
    "\n",
    "# Inputs\n",
    "x = neural_net_image_input((32, 32, 3))\n",
    "y = neural_net_label_input(10)\n",
    "keep_prob = neural_net_keep_prob_input()\n",
    "\n",
    "# Model\n",
    "logits = conv_net(x, keep_prob)\n",
    "\n",
    "# Name logits Tensor, so that is can be loaded from disk after training\n",
    "logits = tf.identity(logits, name='logits')\n",
    "\n",
    "# Loss and Optimizer\n",
    "cost = tf.reduce_mean(tf.nn.softmax_cross_entropy_with_logits(logits=logits, labels=y))\n",
    "optimizer = tf.train.AdamOptimizer().minimize(cost)\n",
    "\n",
    "# Accuracy\n",
    "correct_pred = tf.equal(tf.argmax(logits, 1), tf.argmax(y, 1))\n",
    "accuracy = tf.reduce_mean(tf.cast(correct_pred, tf.float32), name='accuracy')\n",
    "\n",
    "tests.test_conv_net(conv_net)"
   ]
  },
  {
   "cell_type": "markdown",
   "metadata": {},
   "source": [
    "## Train the Neural Network\n",
    "### Single Optimization\n",
    "Implement the function `train_neural_network` to do a single optimization.  The optimization should use `optimizer` to optimize in `session` with a `feed_dict` of the following:\n",
    "* `x` for image input\n",
    "* `y` for labels\n",
    "* `keep_prob` for keep probability for dropout\n",
    "\n",
    "This function will be called for each batch, so `tf.global_variables_initializer()` has already been called.\n",
    "\n",
    "Note: Nothing needs to be returned. This function is only optimizing the neural network."
   ]
  },
  {
   "cell_type": "code",
   "execution_count": 37,
   "metadata": {
    "collapsed": false
   },
   "outputs": [
    {
     "name": "stdout",
     "output_type": "stream",
     "text": [
      "Tests Passed\n"
     ]
    }
   ],
   "source": [
    "def train_neural_network(session, optimizer, keep_probability, feature_batch, label_batch):\n",
    "    \"\"\"\n",
    "    Optimize the session on a batch of images and labels\n",
    "    : session: Current TensorFlow session\n",
    "    : optimizer: TensorFlow optimizer function\n",
    "    : keep_probability: keep probability\n",
    "    : feature_batch: Batch of Numpy image data\n",
    "    : label_batch: Batch of Numpy label data\n",
    "    \"\"\"\n",
    "    # DONE: Implement Function\n",
    "    session.run(optimizer, feed_dict = {x:feature_batch, y:label_batch, keep_prob:keep_probability})\n",
    "\n",
    "\n",
    "\"\"\"\n",
    "DON'T MODIFY ANYTHING IN THIS CELL THAT IS BELOW THIS LINE\n",
    "\"\"\"\n",
    "tests.test_train_nn(train_neural_network)"
   ]
  },
  {
   "cell_type": "markdown",
   "metadata": {},
   "source": [
    "### Show Stats\n",
    "Implement the function `print_stats` to print loss and validation accuracy.  Use the global variables `valid_features` and `valid_labels` to calculate validation accuracy.  Use a keep probability of `1.0` to calculate the loss and validation accuracy."
   ]
  },
  {
   "cell_type": "code",
   "execution_count": 38,
   "metadata": {
    "collapsed": false
   },
   "outputs": [],
   "source": [
    "def print_stats(session, feature_batch, label_batch, cost, accuracy):\n",
    "    \"\"\"\n",
    "    Print information about loss and validation accuracy\n",
    "    : session: Current TensorFlow session\n",
    "    : feature_batch: Batch of Numpy image data\n",
    "    : label_batch: Batch of Numpy label data\n",
    "    : cost: TensorFlow cost function\n",
    "    : accuracy: TensorFlow accuracy function\n",
    "    \"\"\"\n",
    "    # TODO: Implement Function\n",
    "    feed_dict = { x: feature_batch, y: label_batch, keep_prob: 1.0 }\n",
    "    c = session.run([cost], feed_dict=feed_dict)\n",
    "    feed_dict = { x: valid_features, y: valid_labels, keep_prob: 1.0 }\n",
    "    a = session.run([accuracy], feed_dict=feed_dict)\n",
    "    print(\"Cost: {:.3f}, Accuracy: {:.3f}%\".format(c[0], 100*a[0]))\n"
   ]
  },
  {
   "cell_type": "markdown",
   "metadata": {},
   "source": [
    "### Hyperparameters\n",
    "Tune the following parameters:\n",
    "* Set `epochs` to the number of iterations until the network stops learning or start overfitting\n",
    "* Set `batch_size` to the highest number that your machine has memory for.  Most people set them to common sizes of memory:\n",
    " * 64\n",
    " * 128\n",
    " * 256\n",
    " * ...\n",
    "* Set `keep_probability` to the probability of keeping a node using dropout"
   ]
  },
  {
   "cell_type": "code",
   "execution_count": 39,
   "metadata": {
    "collapsed": true
   },
   "outputs": [],
   "source": [
    "# DONE:\n",
    "epochs = 50\n",
    "batch_size = 256\n",
    "keep_probability = 0.85"
   ]
  },
  {
   "cell_type": "markdown",
   "metadata": {},
   "source": [
    "### Train on a Single CIFAR-10 Batch\n",
    "Instead of training the neural network on all the CIFAR-10 batches of data, let's use a single batch. This should save time while you iterate on the model to get a better accuracy.  Once the final validation accuracy is 50% or greater, run the model on all the data in the next section."
   ]
  },
  {
   "cell_type": "code",
   "execution_count": 40,
   "metadata": {
    "collapsed": false
   },
   "outputs": [
    {
     "name": "stdout",
     "output_type": "stream",
     "text": [
      "Checking the Training on a Single Batch...\n",
      "Epoch  1, CIFAR-10 Batch 1:  Cost: 2.208, Accuracy: 24.700%\n",
      "Epoch  2, CIFAR-10 Batch 1:  Cost: 2.143, Accuracy: 28.080%\n",
      "Epoch  3, CIFAR-10 Batch 1:  Cost: 2.043, Accuracy: 34.140%\n",
      "Epoch  4, CIFAR-10 Batch 1:  Cost: 1.848, Accuracy: 38.540%\n",
      "Epoch  5, CIFAR-10 Batch 1:  Cost: 1.691, Accuracy: 41.320%\n",
      "Epoch  6, CIFAR-10 Batch 1:  Cost: 1.484, Accuracy: 43.800%\n",
      "Epoch  7, CIFAR-10 Batch 1:  Cost: 1.326, Accuracy: 45.040%\n",
      "Epoch  8, CIFAR-10 Batch 1:  Cost: 1.156, Accuracy: 46.200%\n",
      "Epoch  9, CIFAR-10 Batch 1:  Cost: 1.047, Accuracy: 46.240%\n",
      "Epoch 10, CIFAR-10 Batch 1:  Cost: 0.874, Accuracy: 46.700%\n",
      "Epoch 11, CIFAR-10 Batch 1:  Cost: 0.831, Accuracy: 46.500%\n",
      "Epoch 12, CIFAR-10 Batch 1:  Cost: 0.627, Accuracy: 50.520%\n",
      "Epoch 13, CIFAR-10 Batch 1:  Cost: 0.548, Accuracy: 50.480%\n",
      "Epoch 14, CIFAR-10 Batch 1:  Cost: 0.511, Accuracy: 48.240%\n",
      "Epoch 15, CIFAR-10 Batch 1:  Cost: 0.416, Accuracy: 51.740%\n",
      "Epoch 16, CIFAR-10 Batch 1:  Cost: 0.406, Accuracy: 50.880%\n",
      "Epoch 17, CIFAR-10 Batch 1:  Cost: 0.374, Accuracy: 48.880%\n",
      "Epoch 18, CIFAR-10 Batch 1:  Cost: 0.318, Accuracy: 51.020%\n",
      "Epoch 19, CIFAR-10 Batch 1:  Cost: 0.292, Accuracy: 48.120%\n",
      "Epoch 20, CIFAR-10 Batch 1:  Cost: 0.264, Accuracy: 50.760%\n",
      "Epoch 21, CIFAR-10 Batch 1:  Cost: 0.216, Accuracy: 50.820%\n",
      "Epoch 22, CIFAR-10 Batch 1:  Cost: 0.170, Accuracy: 50.640%\n",
      "Epoch 23, CIFAR-10 Batch 1:  Cost: 0.140, Accuracy: 51.380%\n",
      "Epoch 24, CIFAR-10 Batch 1:  Cost: 0.120, Accuracy: 50.980%\n",
      "Epoch 25, CIFAR-10 Batch 1:  Cost: 0.123, Accuracy: 50.900%\n",
      "Epoch 26, CIFAR-10 Batch 1:  Cost: 0.177, Accuracy: 47.760%\n",
      "Epoch 27, CIFAR-10 Batch 1:  Cost: 0.194, Accuracy: 48.740%\n",
      "Epoch 28, CIFAR-10 Batch 1:  Cost: 0.248, Accuracy: 48.960%\n",
      "Epoch 29, CIFAR-10 Batch 1:  Cost: 0.127, Accuracy: 50.560%\n",
      "Epoch 30, CIFAR-10 Batch 1:  Cost: 0.126, Accuracy: 46.660%\n",
      "Epoch 31, CIFAR-10 Batch 1:  Cost: 0.157, Accuracy: 46.440%\n",
      "Epoch 32, CIFAR-10 Batch 1:  Cost: 0.103, Accuracy: 44.680%\n",
      "Epoch 33, CIFAR-10 Batch 1:  Cost: 0.063, Accuracy: 48.260%\n",
      "Epoch 34, CIFAR-10 Batch 1:  Cost: 0.052, Accuracy: 49.200%\n",
      "Epoch 35, CIFAR-10 Batch 1:  Cost: 0.044, Accuracy: 47.660%\n",
      "Epoch 36, CIFAR-10 Batch 1:  Cost: 0.072, Accuracy: 44.740%\n",
      "Epoch 37, CIFAR-10 Batch 1:  Cost: 0.095, Accuracy: 44.980%\n",
      "Epoch 38, CIFAR-10 Batch 1:  Cost: 0.086, Accuracy: 46.440%\n",
      "Epoch 39, CIFAR-10 Batch 1:  Cost: 0.062, Accuracy: 46.120%\n",
      "Epoch 40, CIFAR-10 Batch 1:  Cost: 0.060, Accuracy: 46.700%\n",
      "Epoch 41, CIFAR-10 Batch 1:  Cost: 0.058, Accuracy: 48.240%\n",
      "Epoch 42, CIFAR-10 Batch 1:  Cost: 0.037, Accuracy: 49.800%\n",
      "Epoch 43, CIFAR-10 Batch 1:  Cost: 0.029, Accuracy: 48.060%\n",
      "Epoch 44, CIFAR-10 Batch 1:  Cost: 0.047, Accuracy: 47.960%\n",
      "Epoch 45, CIFAR-10 Batch 1:  Cost: 0.076, Accuracy: 47.340%\n",
      "Epoch 46, CIFAR-10 Batch 1:  Cost: 0.041, Accuracy: 49.340%\n",
      "Epoch 47, CIFAR-10 Batch 1:  Cost: 0.033, Accuracy: 46.400%\n",
      "Epoch 48, CIFAR-10 Batch 1:  Cost: 0.026, Accuracy: 48.940%\n",
      "Epoch 49, CIFAR-10 Batch 1:  Cost: 0.033, Accuracy: 46.780%\n",
      "Epoch 50, CIFAR-10 Batch 1:  Cost: 0.033, Accuracy: 43.820%\n"
     ]
    }
   ],
   "source": [
    "\"\"\"\n",
    "DON'T MODIFY ANYTHING IN THIS CELL\n",
    "\"\"\"\n",
    "print('Checking the Training on a Single Batch...')\n",
    "with tf.Session() as sess:\n",
    "    # Initializing the variables\n",
    "    sess.run(tf.global_variables_initializer())\n",
    "\n",
    "    # Training cycle\n",
    "    for epoch in range(epochs):\n",
    "        batch_i = 1\n",
    "        for batch_features, batch_labels in helper.load_preprocess_training_batch(batch_i, batch_size):\n",
    "            train_neural_network(sess, optimizer, keep_probability, batch_features, batch_labels)\n",
    "        print('Epoch {:>2}, CIFAR-10 Batch {}:  '.format(epoch + 1, batch_i), end='')\n",
    "        print_stats(sess, batch_features, batch_labels, cost, accuracy)"
   ]
  },
  {
   "cell_type": "markdown",
   "metadata": {},
   "source": [
    "### Fully Train the Model\n",
    "Now that you got a good accuracy with a single CIFAR-10 batch, try it with all five batches."
   ]
  },
  {
   "cell_type": "code",
   "execution_count": 41,
   "metadata": {
    "collapsed": false
   },
   "outputs": [
    {
     "name": "stdout",
     "output_type": "stream",
     "text": [
      "Training...\n",
      "Epoch  1, CIFAR-10 Batch 1:  Cost: 2.165, Accuracy: 22.840%\n",
      "Epoch  1, CIFAR-10 Batch 2:  Cost: 1.822, Accuracy: 30.780%\n",
      "Epoch  1, CIFAR-10 Batch 3:  Cost: 1.543, Accuracy: 34.720%\n",
      "Epoch  1, CIFAR-10 Batch 4:  Cost: 1.692, Accuracy: 39.120%\n",
      "Epoch  1, CIFAR-10 Batch 5:  Cost: 1.575, Accuracy: 38.780%\n",
      "Epoch  2, CIFAR-10 Batch 1:  Cost: 1.803, Accuracy: 42.440%\n",
      "Epoch  2, CIFAR-10 Batch 2:  Cost: 1.586, Accuracy: 43.400%\n",
      "Epoch  2, CIFAR-10 Batch 3:  Cost: 1.223, Accuracy: 40.720%\n",
      "Epoch  2, CIFAR-10 Batch 4:  Cost: 1.374, Accuracy: 47.200%\n",
      "Epoch  2, CIFAR-10 Batch 5:  Cost: 1.366, Accuracy: 47.680%\n",
      "Epoch  3, CIFAR-10 Batch 1:  Cost: 1.520, Accuracy: 49.520%\n",
      "Epoch  3, CIFAR-10 Batch 2:  Cost: 1.363, Accuracy: 49.500%\n",
      "Epoch  3, CIFAR-10 Batch 3:  Cost: 1.007, Accuracy: 48.800%\n",
      "Epoch  3, CIFAR-10 Batch 4:  Cost: 1.131, Accuracy: 52.480%\n",
      "Epoch  3, CIFAR-10 Batch 5:  Cost: 1.200, Accuracy: 51.860%\n",
      "Epoch  4, CIFAR-10 Batch 1:  Cost: 1.210, Accuracy: 52.100%\n",
      "Epoch  4, CIFAR-10 Batch 2:  Cost: 1.085, Accuracy: 52.380%\n",
      "Epoch  4, CIFAR-10 Batch 3:  Cost: 0.902, Accuracy: 51.160%\n",
      "Epoch  4, CIFAR-10 Batch 4:  Cost: 0.946, Accuracy: 54.960%\n",
      "Epoch  4, CIFAR-10 Batch 5:  Cost: 1.000, Accuracy: 53.560%\n",
      "Epoch  5, CIFAR-10 Batch 1:  Cost: 1.021, Accuracy: 55.320%\n",
      "Epoch  5, CIFAR-10 Batch 2:  Cost: 0.907, Accuracy: 54.300%\n",
      "Epoch  5, CIFAR-10 Batch 3:  Cost: 0.755, Accuracy: 53.500%\n",
      "Epoch  5, CIFAR-10 Batch 4:  Cost: 0.827, Accuracy: 56.560%\n",
      "Epoch  5, CIFAR-10 Batch 5:  Cost: 0.839, Accuracy: 55.300%\n",
      "Epoch  6, CIFAR-10 Batch 1:  Cost: 0.850, Accuracy: 56.440%\n",
      "Epoch  6, CIFAR-10 Batch 2:  Cost: 0.685, Accuracy: 57.260%\n",
      "Epoch  6, CIFAR-10 Batch 3:  Cost: 0.589, Accuracy: 55.760%\n",
      "Epoch  6, CIFAR-10 Batch 4:  Cost: 0.707, Accuracy: 58.720%\n",
      "Epoch  6, CIFAR-10 Batch 5:  Cost: 0.663, Accuracy: 58.200%\n",
      "Epoch  7, CIFAR-10 Batch 1:  Cost: 0.675, Accuracy: 57.860%\n",
      "Epoch  7, CIFAR-10 Batch 2:  Cost: 0.541, Accuracy: 58.720%\n",
      "Epoch  7, CIFAR-10 Batch 3:  Cost: 0.457, Accuracy: 57.680%\n",
      "Epoch  7, CIFAR-10 Batch 4:  Cost: 0.609, Accuracy: 59.500%\n",
      "Epoch  7, CIFAR-10 Batch 5:  Cost: 0.590, Accuracy: 57.300%\n",
      "Epoch  8, CIFAR-10 Batch 1:  Cost: 0.558, Accuracy: 59.100%\n",
      "Epoch  8, CIFAR-10 Batch 2:  Cost: 0.420, Accuracy: 60.040%\n",
      "Epoch  8, CIFAR-10 Batch 3:  Cost: 0.382, Accuracy: 59.520%\n",
      "Epoch  8, CIFAR-10 Batch 4:  Cost: 0.499, Accuracy: 60.360%\n",
      "Epoch  8, CIFAR-10 Batch 5:  Cost: 0.435, Accuracy: 60.080%\n",
      "Epoch  9, CIFAR-10 Batch 1:  Cost: 0.470, Accuracy: 59.240%\n",
      "Epoch  9, CIFAR-10 Batch 2:  Cost: 0.336, Accuracy: 59.900%\n",
      "Epoch  9, CIFAR-10 Batch 3:  Cost: 0.303, Accuracy: 60.680%\n",
      "Epoch  9, CIFAR-10 Batch 4:  Cost: 0.356, Accuracy: 61.400%\n",
      "Epoch  9, CIFAR-10 Batch 5:  Cost: 0.388, Accuracy: 58.440%\n",
      "Epoch 10, CIFAR-10 Batch 1:  Cost: 0.370, Accuracy: 61.060%\n",
      "Epoch 10, CIFAR-10 Batch 2:  Cost: 0.265, Accuracy: 60.740%\n",
      "Epoch 10, CIFAR-10 Batch 3:  Cost: 0.263, Accuracy: 60.660%\n",
      "Epoch 10, CIFAR-10 Batch 4:  Cost: 0.281, Accuracy: 61.280%\n",
      "Epoch 10, CIFAR-10 Batch 5:  Cost: 0.323, Accuracy: 58.680%\n",
      "Epoch 11, CIFAR-10 Batch 1:  Cost: 0.284, Accuracy: 61.840%\n",
      "Epoch 11, CIFAR-10 Batch 2:  Cost: 0.239, Accuracy: 60.160%\n",
      "Epoch 11, CIFAR-10 Batch 3:  Cost: 0.229, Accuracy: 59.920%\n",
      "Epoch 11, CIFAR-10 Batch 4:  Cost: 0.271, Accuracy: 60.260%\n",
      "Epoch 11, CIFAR-10 Batch 5:  Cost: 0.269, Accuracy: 58.460%\n",
      "Epoch 12, CIFAR-10 Batch 1:  Cost: 0.284, Accuracy: 60.720%\n",
      "Epoch 12, CIFAR-10 Batch 2:  Cost: 0.197, Accuracy: 60.980%\n",
      "Epoch 12, CIFAR-10 Batch 3:  Cost: 0.191, Accuracy: 60.740%\n",
      "Epoch 12, CIFAR-10 Batch 4:  Cost: 0.256, Accuracy: 60.140%\n",
      "Epoch 12, CIFAR-10 Batch 5:  Cost: 0.222, Accuracy: 60.780%\n",
      "Epoch 13, CIFAR-10 Batch 1:  Cost: 0.300, Accuracy: 60.280%\n",
      "Epoch 13, CIFAR-10 Batch 2:  Cost: 0.205, Accuracy: 60.840%\n",
      "Epoch 13, CIFAR-10 Batch 3:  Cost: 0.157, Accuracy: 61.020%\n",
      "Epoch 13, CIFAR-10 Batch 4:  Cost: 0.195, Accuracy: 59.560%\n",
      "Epoch 13, CIFAR-10 Batch 5:  Cost: 0.192, Accuracy: 61.360%\n",
      "Epoch 14, CIFAR-10 Batch 1:  Cost: 0.205, Accuracy: 60.340%\n",
      "Epoch 14, CIFAR-10 Batch 2:  Cost: 0.187, Accuracy: 59.460%\n",
      "Epoch 14, CIFAR-10 Batch 3:  Cost: 0.137, Accuracy: 60.520%\n",
      "Epoch 14, CIFAR-10 Batch 4:  Cost: 0.167, Accuracy: 61.900%\n",
      "Epoch 14, CIFAR-10 Batch 5:  Cost: 0.143, Accuracy: 62.120%\n",
      "Epoch 15, CIFAR-10 Batch 1:  Cost: 0.181, Accuracy: 58.820%\n",
      "Epoch 15, CIFAR-10 Batch 2:  Cost: 0.146, Accuracy: 59.260%\n",
      "Epoch 15, CIFAR-10 Batch 3:  Cost: 0.125, Accuracy: 59.300%\n",
      "Epoch 15, CIFAR-10 Batch 4:  Cost: 0.175, Accuracy: 61.480%\n",
      "Epoch 15, CIFAR-10 Batch 5:  Cost: 0.144, Accuracy: 62.640%\n",
      "Epoch 16, CIFAR-10 Batch 1:  Cost: 0.160, Accuracy: 59.860%\n",
      "Epoch 16, CIFAR-10 Batch 2:  Cost: 0.121, Accuracy: 59.360%\n",
      "Epoch 16, CIFAR-10 Batch 3:  Cost: 0.118, Accuracy: 58.800%\n",
      "Epoch 16, CIFAR-10 Batch 4:  Cost: 0.128, Accuracy: 61.580%\n",
      "Epoch 16, CIFAR-10 Batch 5:  Cost: 0.121, Accuracy: 61.620%\n",
      "Epoch 17, CIFAR-10 Batch 1:  Cost: 0.146, Accuracy: 60.640%\n",
      "Epoch 17, CIFAR-10 Batch 2:  Cost: 0.125, Accuracy: 60.700%\n",
      "Epoch 17, CIFAR-10 Batch 3:  Cost: 0.114, Accuracy: 57.700%\n",
      "Epoch 17, CIFAR-10 Batch 4:  Cost: 0.136, Accuracy: 60.160%\n",
      "Epoch 17, CIFAR-10 Batch 5:  Cost: 0.113, Accuracy: 61.160%\n",
      "Epoch 18, CIFAR-10 Batch 1:  Cost: 0.128, Accuracy: 59.900%\n",
      "Epoch 18, CIFAR-10 Batch 2:  Cost: 0.101, Accuracy: 61.160%\n",
      "Epoch 18, CIFAR-10 Batch 3:  Cost: 0.107, Accuracy: 57.580%\n",
      "Epoch 18, CIFAR-10 Batch 4:  Cost: 0.131, Accuracy: 59.760%\n",
      "Epoch 18, CIFAR-10 Batch 5:  Cost: 0.090, Accuracy: 61.600%\n",
      "Epoch 19, CIFAR-10 Batch 1:  Cost: 0.120, Accuracy: 60.700%\n",
      "Epoch 19, CIFAR-10 Batch 2:  Cost: 0.088, Accuracy: 59.700%\n",
      "Epoch 19, CIFAR-10 Batch 3:  Cost: 0.105, Accuracy: 56.260%\n",
      "Epoch 19, CIFAR-10 Batch 4:  Cost: 0.109, Accuracy: 60.320%\n",
      "Epoch 19, CIFAR-10 Batch 5:  Cost: 0.092, Accuracy: 61.740%\n",
      "Epoch 20, CIFAR-10 Batch 1:  Cost: 0.105, Accuracy: 60.480%\n",
      "Epoch 20, CIFAR-10 Batch 2:  Cost: 0.082, Accuracy: 59.520%\n",
      "Epoch 20, CIFAR-10 Batch 3:  Cost: 0.124, Accuracy: 52.240%\n",
      "Epoch 20, CIFAR-10 Batch 4:  Cost: 0.092, Accuracy: 59.940%\n",
      "Epoch 20, CIFAR-10 Batch 5:  Cost: 0.107, Accuracy: 59.480%\n",
      "Epoch 21, CIFAR-10 Batch 1:  Cost: 0.118, Accuracy: 58.920%\n",
      "Epoch 21, CIFAR-10 Batch 2:  Cost: 0.111, Accuracy: 58.620%\n",
      "Epoch 21, CIFAR-10 Batch 3:  Cost: 0.087, Accuracy: 56.940%\n",
      "Epoch 21, CIFAR-10 Batch 4:  Cost: 0.074, Accuracy: 60.760%\n",
      "Epoch 21, CIFAR-10 Batch 5:  Cost: 0.070, Accuracy: 59.920%\n",
      "Epoch 22, CIFAR-10 Batch 1:  Cost: 0.120, Accuracy: 58.240%\n",
      "Epoch 22, CIFAR-10 Batch 2:  Cost: 0.056, Accuracy: 59.880%\n",
      "Epoch 22, CIFAR-10 Batch 3:  Cost: 0.074, Accuracy: 59.100%\n",
      "Epoch 22, CIFAR-10 Batch 4:  Cost: 0.072, Accuracy: 59.620%\n",
      "Epoch 22, CIFAR-10 Batch 5:  Cost: 0.061, Accuracy: 59.900%\n",
      "Epoch 23, CIFAR-10 Batch 1:  Cost: 0.116, Accuracy: 59.120%\n",
      "Epoch 23, CIFAR-10 Batch 2:  Cost: 0.058, Accuracy: 60.900%\n",
      "Epoch 23, CIFAR-10 Batch 3:  Cost: 0.090, Accuracy: 57.780%\n",
      "Epoch 23, CIFAR-10 Batch 4:  Cost: 0.083, Accuracy: 59.160%\n",
      "Epoch 23, CIFAR-10 Batch 5:  Cost: 0.049, Accuracy: 61.100%\n",
      "Epoch 24, CIFAR-10 Batch 1:  Cost: 0.100, Accuracy: 57.900%\n",
      "Epoch 24, CIFAR-10 Batch 2:  Cost: 0.049, Accuracy: 60.640%\n",
      "Epoch 24, CIFAR-10 Batch 3:  Cost: 0.056, Accuracy: 58.340%\n",
      "Epoch 24, CIFAR-10 Batch 4:  Cost: 0.055, Accuracy: 59.220%\n",
      "Epoch 24, CIFAR-10 Batch 5:  Cost: 0.049, Accuracy: 61.560%\n",
      "Epoch 25, CIFAR-10 Batch 1:  Cost: 0.102, Accuracy: 59.140%\n",
      "Epoch 25, CIFAR-10 Batch 2:  Cost: 0.045, Accuracy: 61.340%\n",
      "Epoch 25, CIFAR-10 Batch 3:  Cost: 0.049, Accuracy: 60.420%\n",
      "Epoch 25, CIFAR-10 Batch 4:  Cost: 0.063, Accuracy: 59.360%\n",
      "Epoch 25, CIFAR-10 Batch 5:  Cost: 0.029, Accuracy: 61.500%\n",
      "Epoch 26, CIFAR-10 Batch 1:  Cost: 0.098, Accuracy: 59.260%\n",
      "Epoch 26, CIFAR-10 Batch 2:  Cost: 0.049, Accuracy: 61.360%\n",
      "Epoch 26, CIFAR-10 Batch 3:  Cost: 0.049, Accuracy: 58.840%\n",
      "Epoch 26, CIFAR-10 Batch 4:  Cost: 0.048, Accuracy: 59.580%\n",
      "Epoch 26, CIFAR-10 Batch 5:  Cost: 0.030, Accuracy: 60.600%\n",
      "Epoch 27, CIFAR-10 Batch 1:  Cost: 0.069, Accuracy: 59.140%\n",
      "Epoch 27, CIFAR-10 Batch 2:  Cost: 0.083, Accuracy: 60.780%\n",
      "Epoch 27, CIFAR-10 Batch 3:  Cost: 0.090, Accuracy: 55.820%\n",
      "Epoch 27, CIFAR-10 Batch 4:  Cost: 0.050, Accuracy: 60.440%\n",
      "Epoch 27, CIFAR-10 Batch 5:  Cost: 0.028, Accuracy: 60.760%\n",
      "Epoch 28, CIFAR-10 Batch 1:  Cost: 0.065, Accuracy: 60.320%\n",
      "Epoch 28, CIFAR-10 Batch 2:  Cost: 0.036, Accuracy: 61.000%\n",
      "Epoch 28, CIFAR-10 Batch 3:  Cost: 0.058, Accuracy: 56.200%\n",
      "Epoch 28, CIFAR-10 Batch 4:  Cost: 0.044, Accuracy: 60.460%\n",
      "Epoch 28, CIFAR-10 Batch 5:  Cost: 0.027, Accuracy: 60.300%\n",
      "Epoch 29, CIFAR-10 Batch 1:  Cost: 0.046, Accuracy: 61.080%\n",
      "Epoch 29, CIFAR-10 Batch 2:  Cost: 0.022, Accuracy: 60.940%\n",
      "Epoch 29, CIFAR-10 Batch 3:  Cost: 0.046, Accuracy: 57.980%\n",
      "Epoch 29, CIFAR-10 Batch 4:  Cost: 0.043, Accuracy: 60.020%\n",
      "Epoch 29, CIFAR-10 Batch 5:  Cost: 0.025, Accuracy: 60.800%\n",
      "Epoch 30, CIFAR-10 Batch 1:  Cost: 0.060, Accuracy: 58.760%\n",
      "Epoch 30, CIFAR-10 Batch 2:  Cost: 0.019, Accuracy: 61.220%\n",
      "Epoch 30, CIFAR-10 Batch 3:  Cost: 0.055, Accuracy: 58.060%\n",
      "Epoch 30, CIFAR-10 Batch 4:  Cost: 0.061, Accuracy: 58.320%\n",
      "Epoch 30, CIFAR-10 Batch 5:  Cost: 0.033, Accuracy: 60.080%\n",
      "Epoch 31, CIFAR-10 Batch 1:  Cost: 0.060, Accuracy: 58.600%\n",
      "Epoch 31, CIFAR-10 Batch 2:  Cost: 0.025, Accuracy: 60.480%\n",
      "Epoch 31, CIFAR-10 Batch 3:  Cost: 0.040, Accuracy: 58.460%\n",
      "Epoch 31, CIFAR-10 Batch 4:  Cost: 0.081, Accuracy: 58.060%\n",
      "Epoch 31, CIFAR-10 Batch 5:  Cost: 0.026, Accuracy: 60.900%\n",
      "Epoch 32, CIFAR-10 Batch 1:  Cost: 0.054, Accuracy: 58.460%\n",
      "Epoch 32, CIFAR-10 Batch 2:  Cost: 0.029, Accuracy: 59.740%\n",
      "Epoch 32, CIFAR-10 Batch 3:  Cost: 0.043, Accuracy: 58.560%\n",
      "Epoch 32, CIFAR-10 Batch 4:  Cost: 0.061, Accuracy: 57.660%\n",
      "Epoch 32, CIFAR-10 Batch 5:  Cost: 0.035, Accuracy: 60.680%\n",
      "Epoch 33, CIFAR-10 Batch 1:  Cost: 0.079, Accuracy: 57.600%\n",
      "Epoch 33, CIFAR-10 Batch 2:  Cost: 0.031, Accuracy: 58.200%\n",
      "Epoch 33, CIFAR-10 Batch 3:  Cost: 0.040, Accuracy: 58.140%\n",
      "Epoch 33, CIFAR-10 Batch 4:  Cost: 0.054, Accuracy: 59.260%\n",
      "Epoch 33, CIFAR-10 Batch 5:  Cost: 0.057, Accuracy: 59.580%\n",
      "Epoch 34, CIFAR-10 Batch 1:  Cost: 0.064, Accuracy: 57.760%\n",
      "Epoch 34, CIFAR-10 Batch 2:  Cost: 0.023, Accuracy: 58.600%\n",
      "Epoch 34, CIFAR-10 Batch 3:  Cost: 0.050, Accuracy: 58.640%\n",
      "Epoch 34, CIFAR-10 Batch 4:  Cost: 0.047, Accuracy: 59.460%\n",
      "Epoch 34, CIFAR-10 Batch 5:  Cost: 0.035, Accuracy: 59.300%\n",
      "Epoch 35, CIFAR-10 Batch 1:  Cost: 0.104, Accuracy: 54.680%\n",
      "Epoch 35, CIFAR-10 Batch 2:  Cost: 0.021, Accuracy: 57.980%\n",
      "Epoch 35, CIFAR-10 Batch 3:  Cost: 0.037, Accuracy: 60.520%\n",
      "Epoch 35, CIFAR-10 Batch 4:  Cost: 0.039, Accuracy: 60.700%\n",
      "Epoch 35, CIFAR-10 Batch 5:  Cost: 0.035, Accuracy: 59.760%\n",
      "Epoch 36, CIFAR-10 Batch 1:  Cost: 0.054, Accuracy: 55.480%\n",
      "Epoch 36, CIFAR-10 Batch 2:  Cost: 0.032, Accuracy: 56.640%\n",
      "Epoch 36, CIFAR-10 Batch 3:  Cost: 0.034, Accuracy: 61.080%\n",
      "Epoch 36, CIFAR-10 Batch 4:  Cost: 0.039, Accuracy: 61.740%\n",
      "Epoch 36, CIFAR-10 Batch 5:  Cost: 0.023, Accuracy: 60.100%\n",
      "Epoch 37, CIFAR-10 Batch 1:  Cost: 0.031, Accuracy: 59.380%\n",
      "Epoch 37, CIFAR-10 Batch 2:  Cost: 0.018, Accuracy: 59.300%\n",
      "Epoch 37, CIFAR-10 Batch 3:  Cost: 0.021, Accuracy: 60.580%\n",
      "Epoch 37, CIFAR-10 Batch 4:  Cost: 0.025, Accuracy: 59.700%\n",
      "Epoch 37, CIFAR-10 Batch 5:  Cost: 0.028, Accuracy: 60.420%\n",
      "Epoch 38, CIFAR-10 Batch 1:  Cost: 0.026, Accuracy: 59.140%\n",
      "Epoch 38, CIFAR-10 Batch 2:  Cost: 0.047, Accuracy: 59.200%\n",
      "Epoch 38, CIFAR-10 Batch 3:  Cost: 0.028, Accuracy: 60.120%\n",
      "Epoch 38, CIFAR-10 Batch 4:  Cost: 0.025, Accuracy: 59.980%\n",
      "Epoch 38, CIFAR-10 Batch 5:  Cost: 0.017, Accuracy: 60.280%\n",
      "Epoch 39, CIFAR-10 Batch 1:  Cost: 0.034, Accuracy: 58.720%\n",
      "Epoch 39, CIFAR-10 Batch 2:  Cost: 0.026, Accuracy: 60.120%\n",
      "Epoch 39, CIFAR-10 Batch 3:  Cost: 0.014, Accuracy: 60.120%\n",
      "Epoch 39, CIFAR-10 Batch 4:  Cost: 0.031, Accuracy: 59.400%\n",
      "Epoch 39, CIFAR-10 Batch 5:  Cost: 0.012, Accuracy: 60.200%\n",
      "Epoch 40, CIFAR-10 Batch 1:  Cost: 0.020, Accuracy: 59.800%\n",
      "Epoch 40, CIFAR-10 Batch 2:  Cost: 0.025, Accuracy: 59.860%\n",
      "Epoch 40, CIFAR-10 Batch 3:  Cost: 0.022, Accuracy: 59.860%\n",
      "Epoch 40, CIFAR-10 Batch 4:  Cost: 0.024, Accuracy: 58.040%\n",
      "Epoch 40, CIFAR-10 Batch 5:  Cost: 0.018, Accuracy: 59.180%\n",
      "Epoch 41, CIFAR-10 Batch 1:  Cost: 0.039, Accuracy: 59.020%\n",
      "Epoch 41, CIFAR-10 Batch 2:  Cost: 0.020, Accuracy: 60.000%\n",
      "Epoch 41, CIFAR-10 Batch 3:  Cost: 0.027, Accuracy: 58.320%\n",
      "Epoch 41, CIFAR-10 Batch 4:  Cost: 0.030, Accuracy: 57.620%\n",
      "Epoch 41, CIFAR-10 Batch 5:  Cost: 0.020, Accuracy: 57.480%\n",
      "Epoch 42, CIFAR-10 Batch 1:  Cost: 0.042, Accuracy: 59.640%\n",
      "Epoch 42, CIFAR-10 Batch 2:  Cost: 0.018, Accuracy: 59.320%\n",
      "Epoch 42, CIFAR-10 Batch 3:  Cost: 0.016, Accuracy: 58.480%\n",
      "Epoch 42, CIFAR-10 Batch 4:  Cost: 0.034, Accuracy: 57.420%\n",
      "Epoch 42, CIFAR-10 Batch 5:  Cost: 0.020, Accuracy: 56.940%\n",
      "Epoch 43, CIFAR-10 Batch 1:  Cost: 0.048, Accuracy: 59.000%\n",
      "Epoch 43, CIFAR-10 Batch 2:  Cost: 0.014, Accuracy: 59.520%\n",
      "Epoch 43, CIFAR-10 Batch 3:  Cost: 0.017, Accuracy: 56.840%\n",
      "Epoch 43, CIFAR-10 Batch 4:  Cost: 0.017, Accuracy: 57.220%\n",
      "Epoch 43, CIFAR-10 Batch 5:  Cost: 0.013, Accuracy: 59.480%\n",
      "Epoch 44, CIFAR-10 Batch 1:  Cost: 0.034, Accuracy: 59.040%\n",
      "Epoch 44, CIFAR-10 Batch 2:  Cost: 0.007, Accuracy: 58.500%\n",
      "Epoch 44, CIFAR-10 Batch 3:  Cost: 0.021, Accuracy: 58.780%\n",
      "Epoch 44, CIFAR-10 Batch 4:  Cost: 0.030, Accuracy: 58.160%\n",
      "Epoch 44, CIFAR-10 Batch 5:  Cost: 0.013, Accuracy: 58.700%\n",
      "Epoch 45, CIFAR-10 Batch 1:  Cost: 0.018, Accuracy: 59.860%\n",
      "Epoch 45, CIFAR-10 Batch 2:  Cost: 0.009, Accuracy: 59.680%\n",
      "Epoch 45, CIFAR-10 Batch 3:  Cost: 0.013, Accuracy: 60.320%\n",
      "Epoch 45, CIFAR-10 Batch 4:  Cost: 0.019, Accuracy: 59.360%\n",
      "Epoch 45, CIFAR-10 Batch 5:  Cost: 0.015, Accuracy: 59.300%\n",
      "Epoch 46, CIFAR-10 Batch 1:  Cost: 0.018, Accuracy: 58.380%\n",
      "Epoch 46, CIFAR-10 Batch 2:  Cost: 0.009, Accuracy: 60.260%\n",
      "Epoch 46, CIFAR-10 Batch 3:  Cost: 0.010, Accuracy: 59.820%\n",
      "Epoch 46, CIFAR-10 Batch 4:  Cost: 0.012, Accuracy: 59.620%\n",
      "Epoch 46, CIFAR-10 Batch 5:  Cost: 0.009, Accuracy: 58.660%\n",
      "Epoch 47, CIFAR-10 Batch 1:  Cost: 0.010, Accuracy: 58.460%\n",
      "Epoch 47, CIFAR-10 Batch 2:  Cost: 0.005, Accuracy: 60.440%\n",
      "Epoch 47, CIFAR-10 Batch 3:  Cost: 0.009, Accuracy: 59.440%\n",
      "Epoch 47, CIFAR-10 Batch 4:  Cost: 0.014, Accuracy: 59.520%\n",
      "Epoch 47, CIFAR-10 Batch 5:  Cost: 0.004, Accuracy: 58.460%\n",
      "Epoch 48, CIFAR-10 Batch 1:  Cost: 0.011, Accuracy: 59.140%\n",
      "Epoch 48, CIFAR-10 Batch 2:  Cost: 0.007, Accuracy: 59.360%\n",
      "Epoch 48, CIFAR-10 Batch 3:  Cost: 0.012, Accuracy: 59.360%\n",
      "Epoch 48, CIFAR-10 Batch 4:  Cost: 0.018, Accuracy: 58.000%\n",
      "Epoch 48, CIFAR-10 Batch 5:  Cost: 0.024, Accuracy: 56.780%\n",
      "Epoch 49, CIFAR-10 Batch 1:  Cost: 0.023, Accuracy: 57.260%\n",
      "Epoch 49, CIFAR-10 Batch 2:  Cost: 0.008, Accuracy: 59.500%\n",
      "Epoch 49, CIFAR-10 Batch 3:  Cost: 0.013, Accuracy: 59.460%\n",
      "Epoch 49, CIFAR-10 Batch 4:  Cost: 0.013, Accuracy: 58.120%\n",
      "Epoch 49, CIFAR-10 Batch 5:  Cost: 0.022, Accuracy: 56.800%\n",
      "Epoch 50, CIFAR-10 Batch 1:  Cost: 0.014, Accuracy: 59.060%\n",
      "Epoch 50, CIFAR-10 Batch 2:  Cost: 0.008, Accuracy: 59.720%\n",
      "Epoch 50, CIFAR-10 Batch 3:  Cost: 0.023, Accuracy: 57.640%\n",
      "Epoch 50, CIFAR-10 Batch 4:  Cost: 0.016, Accuracy: 59.020%\n",
      "Epoch 50, CIFAR-10 Batch 5:  Cost: 0.011, Accuracy: 58.100%\n"
     ]
    }
   ],
   "source": [
    "\"\"\"\n",
    "DON'T MODIFY ANYTHING IN THIS CELL\n",
    "\"\"\"\n",
    "save_model_path = './image_classification'\n",
    "\n",
    "print('Training...')\n",
    "with tf.Session() as sess:\n",
    "    # Initializing the variables\n",
    "    sess.run(tf.global_variables_initializer())\n",
    "    \n",
    "    # Training cycle\n",
    "    for epoch in range(epochs):\n",
    "        # Loop over all batches\n",
    "        n_batches = 5\n",
    "        for batch_i in range(1, n_batches + 1):\n",
    "            for batch_features, batch_labels in helper.load_preprocess_training_batch(batch_i, batch_size):\n",
    "                train_neural_network(sess, optimizer, keep_probability, batch_features, batch_labels)\n",
    "            print('Epoch {:>2}, CIFAR-10 Batch {}:  '.format(epoch + 1, batch_i), end='')\n",
    "            print_stats(sess, batch_features, batch_labels, cost, accuracy)\n",
    "            \n",
    "    # Save Model\n",
    "    saver = tf.train.Saver()\n",
    "    save_path = saver.save(sess, save_model_path)"
   ]
  },
  {
   "cell_type": "markdown",
   "metadata": {},
   "source": [
    "# Checkpoint\n",
    "The model has been saved to disk.\n",
    "## Test Model\n",
    "Test your model against the test dataset.  This will be your final accuracy. You should have an accuracy greater than 50%. If you don't, keep tweaking the model architecture and parameters."
   ]
  },
  {
   "cell_type": "code",
   "execution_count": 42,
   "metadata": {
    "collapsed": false
   },
   "outputs": [
    {
     "name": "stdout",
     "output_type": "stream",
     "text": [
      "Testing Accuracy: 0.5759765625\n",
      "\n"
     ]
    },
    {
     "data": {
      "image/png": "[encoded data removed]",
      "text/plain": [
       "<matplotlib.figure.Figure at 0x7fae3356f1d0>"
      ]
     },
     "metadata": {
      "image/png": {
       "height": 319,
       "width": 355
      }
     },
     "output_type": "display_data"
    }
   ],
   "source": [
    "\"\"\"\n",
    "DON'T MODIFY ANYTHING IN THIS CELL\n",
    "\"\"\"\n",
    "%matplotlib inline\n",
    "%config InlineBackend.figure_format = 'retina'\n",
    "\n",
    "import tensorflow as tf\n",
    "import pickle\n",
    "import helper\n",
    "import random\n",
    "\n",
    "# Set batch size if not already set\n",
    "try:\n",
    "    if batch_size:\n",
    "        pass\n",
    "except NameError:\n",
    "    batch_size = 64\n",
    "\n",
    "save_model_path = './image_classification'\n",
    "n_samples = 4\n",
    "top_n_predictions = 3\n",
    "\n",
    "def test_model():\n",
    "    \"\"\"\n",
    "    Test the saved model against the test dataset\n",
    "    \"\"\"\n",
    "\n",
    "    test_features, test_labels = pickle.load(open('preprocess_training.p', mode='rb'))\n",
    "    loaded_graph = tf.Graph()\n",
    "\n",
    "    with tf.Session(graph=loaded_graph) as sess:\n",
    "        # Load model\n",
    "        loader = tf.train.import_meta_graph(save_model_path + '.meta')\n",
    "        loader.restore(sess, save_model_path)\n",
    "\n",
    "        # Get Tensors from loaded model\n",
    "        loaded_x = loaded_graph.get_tensor_by_name('x:0')\n",
    "        loaded_y = loaded_graph.get_tensor_by_name('y:0')\n",
    "        loaded_keep_prob = loaded_graph.get_tensor_by_name('keep_prob:0')\n",
    "        loaded_logits = loaded_graph.get_tensor_by_name('logits:0')\n",
    "        loaded_acc = loaded_graph.get_tensor_by_name('accuracy:0')\n",
    "        \n",
    "        # Get accuracy in batches for memory limitations\n",
    "        test_batch_acc_total = 0\n",
    "        test_batch_count = 0\n",
    "        \n",
    "        for train_feature_batch, train_label_batch in helper.batch_features_labels(test_features, test_labels, batch_size):\n",
    "            test_batch_acc_total += sess.run(\n",
    "                loaded_acc,\n",
    "                feed_dict={loaded_x: train_feature_batch, loaded_y: train_label_batch, loaded_keep_prob: 1.0})\n",
    "            test_batch_count += 1\n",
    "\n",
    "        print('Testing Accuracy: {}\\n'.format(test_batch_acc_total/test_batch_count))\n",
    "\n",
    "        # Print Random Samples\n",
    "        random_test_features, random_test_labels = tuple(zip(*random.sample(list(zip(test_features, test_labels)), n_samples)))\n",
    "        random_test_predictions = sess.run(\n",
    "            tf.nn.top_k(tf.nn.softmax(loaded_logits), top_n_predictions),\n",
    "            feed_dict={loaded_x: random_test_features, loaded_y: random_test_labels, loaded_keep_prob: 1.0})\n",
    "        helper.display_image_predictions(random_test_features, random_test_labels, random_test_predictions)\n",
    "\n",
    "\n",
    "test_model()"
   ]
  },
  {
   "cell_type": "markdown",
   "metadata": {},
   "source": [
    "## Why 50-80% Accuracy?\n",
    "You might be wondering why you can't get an accuracy any higher. First things first, 50% isn't bad for a simple CNN.  Pure guessing would get you 10% accuracy. That's because there are many more techniques that can be applied to your model and we recemmond that once you are done with this project, you explore!\n",
    "\n",
    "## Submitting This Project\n",
    "When submitting this project, make sure to run all the cells before saving the notebook.  Save the notebook file as \"image_classification.ipynb\" and save it as a HTML file under \"File\" -> \"Download as\".  Include the \"helper.py\" and \"problem_unittests.py\" files in your submission."
   ]
  }
 ],
 "metadata": {
  "kernelspec": {
   "display_name": "tensorflow",
   "language": "python",
   "name": "tensorflow"
  },
  "language_info": {
   "codemirror_mode": {
    "name": "ipython",
    "version": 3
   },
   "file_extension": ".py",
   "mimetype": "text/x-python",
   "name": "python",
   "nbconvert_exporter": "python",
   "pygments_lexer": "ipython3",
   "version": "3.5.3"
  }
 },
 "nbformat": 4,
 "nbformat_minor": 0
}
